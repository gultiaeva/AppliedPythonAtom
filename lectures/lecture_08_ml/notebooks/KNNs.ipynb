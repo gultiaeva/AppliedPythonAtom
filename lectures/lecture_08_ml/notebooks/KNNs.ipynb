{
 "cells": [
  {
   "cell_type": "code",
   "execution_count": 2,
   "metadata": {},
   "outputs": [],
   "source": [
    "import numpy as np\n",
    "import pandas as pd"
   ]
  },
  {
   "cell_type": "markdown",
   "metadata": {},
   "source": [
    "# Вспомним (напишем) KNN для классификации"
   ]
  },
  {
   "cell_type": "code",
   "execution_count": 3,
   "metadata": {},
   "outputs": [
    {
     "data": {
      "text/html": [
       "<div>\n",
       "<style scoped>\n",
       "    .dataframe tbody tr th:only-of-type {\n",
       "        vertical-align: middle;\n",
       "    }\n",
       "\n",
       "    .dataframe tbody tr th {\n",
       "        vertical-align: top;\n",
       "    }\n",
       "\n",
       "    .dataframe thead th {\n",
       "        text-align: right;\n",
       "    }\n",
       "</style>\n",
       "<table border=\"1\" class=\"dataframe\">\n",
       "  <thead>\n",
       "    <tr style=\"text-align: right;\">\n",
       "      <th></th>\n",
       "      <th>height</th>\n",
       "      <th>weight</th>\n",
       "      <th>age</th>\n",
       "      <th>male</th>\n",
       "    </tr>\n",
       "  </thead>\n",
       "  <tbody>\n",
       "    <tr>\n",
       "      <th>0</th>\n",
       "      <td>156.845</td>\n",
       "      <td>53.041914</td>\n",
       "      <td>41.0</td>\n",
       "      <td>1</td>\n",
       "    </tr>\n",
       "    <tr>\n",
       "      <th>1</th>\n",
       "      <td>163.830</td>\n",
       "      <td>62.992589</td>\n",
       "      <td>35.0</td>\n",
       "      <td>1</td>\n",
       "    </tr>\n",
       "    <tr>\n",
       "      <th>2</th>\n",
       "      <td>149.225</td>\n",
       "      <td>38.243476</td>\n",
       "      <td>32.0</td>\n",
       "      <td>0</td>\n",
       "    </tr>\n",
       "    <tr>\n",
       "      <th>3</th>\n",
       "      <td>168.910</td>\n",
       "      <td>55.479971</td>\n",
       "      <td>27.0</td>\n",
       "      <td>1</td>\n",
       "    </tr>\n",
       "    <tr>\n",
       "      <th>4</th>\n",
       "      <td>147.955</td>\n",
       "      <td>34.869885</td>\n",
       "      <td>19.0</td>\n",
       "      <td>0</td>\n",
       "    </tr>\n",
       "  </tbody>\n",
       "</table>\n",
       "</div>"
      ],
      "text/plain": [
       "    height     weight   age  male\n",
       "0  156.845  53.041914  41.0     1\n",
       "1  163.830  62.992589  35.0     1\n",
       "2  149.225  38.243476  32.0     0\n",
       "3  168.910  55.479971  27.0     1\n",
       "4  147.955  34.869885  19.0     0"
      ]
     },
     "execution_count": 3,
     "metadata": {},
     "output_type": "execute_result"
    }
   ],
   "source": [
    "#Считаем данные из файла data/Howell1.csv в DataFrame\n",
    "# Должно быть 4 колонки: height, weight, age, male\n",
    "df = pd.read_csv(\"data/Howell1.csv\", sep=\";\")\n",
    "df.drop(\"Unnamed: 0\", axis=1, inplace=True)\n",
    "df.head()"
   ]
  },
  {
   "cell_type": "code",
   "execution_count": 4,
   "metadata": {},
   "outputs": [],
   "source": [
    "#Разобьем наши данные на трейн и валидацию (не будем делать cross-validation, возьмем просто отложенный семпл)\n",
    "#Чем плох такой подход?\n",
    "#Используем train_test_split с random_state=13, test_size=0.2 и стратификацией по целевой переменной \n",
    "#ПРЕДСКАЗЫВАТЬ БУДЕМ ПОЛ!\n",
    "from sklearn.model_selection import train_test_split"
   ]
  },
  {
   "cell_type": "code",
   "execution_count": 5,
   "metadata": {},
   "outputs": [],
   "source": [
    "X_train, X_test, y_train, y_test = train_test_split(df.drop(\"male\", axis=1), df['male'],\n",
    "                                                    random_state=13, test_size=0.2, stratify=df['male'])"
   ]
  },
  {
   "cell_type": "code",
   "execution_count": 6,
   "metadata": {},
   "outputs": [],
   "source": [
    "#Что еще нужно сделать для KNN?\n",
    "\n",
    "from sklearn.preprocessing import StandardScaler\n",
    "\n",
    "scaler = StandardScaler()\n",
    "X_train_scaled = scaler.fit_transform(X_train)\n",
    "X_test_scaled = scaler.transform(X_test)"
   ]
  },
  {
   "cell_type": "code",
   "execution_count": null,
   "metadata": {},
   "outputs": [],
   "source": []
  },
  {
   "cell_type": "code",
   "execution_count": 7,
   "metadata": {},
   "outputs": [],
   "source": [
    "#Заполните пропуски в классификаторе\n",
    "class KNNClassifier:\n",
    "    \"\"\"\n",
    "    simple KNN classifier\n",
    "    \"\"\"\n",
    "    \n",
    "    def __init__(self, n):\n",
    "        self.n = n\n",
    "        \n",
    "    def fit(self, X, y):\n",
    "        self.X = X\n",
    "        self.y = y\n",
    "    \n",
    "    def predict(self, X):\n",
    "        y = []\n",
    "        assert len(X.shape) == 2\n",
    "        for (h, w, a) in X:\n",
    "            ### Посчитаем расстояние от всех элементов в тренировочной выборке\n",
    "            # до текущего примера -> результат - вектор размерности трейна\n",
    "            d = np.sqrt((h - self.X[:, 0])**2 + (w - self.X[:, 1])**2 + (a - self.X[:, 2])**2)\n",
    "            ### Возьмем индексы n элементов, расстояние до которых минимально\n",
    "            ### результат -> вектор из n элементов\n",
    "            idx = np.argsort(d)[:self.n]\n",
    "            ### Посчитаем частоту меток для каждого случая \n",
    "            ### результат -> вектор длинны 2 который покажет\n",
    "            ### сколько соседей 0-го класса, сколько соседей 1-го класса.\n",
    "            counts = np.average(self.y[idx])\n",
    "            ### возьмем самый часто встречаемый в соседях класс.\n",
    "            prediction = (counts > .5).astype('int64')\n",
    "            y.append(prediction)\n",
    "        return y"
   ]
  },
  {
   "cell_type": "code",
   "execution_count": 8,
   "metadata": {},
   "outputs": [],
   "source": [
    "from sklearn.metrics import precision_score"
   ]
  },
  {
   "cell_type": "code",
   "execution_count": 9,
   "metadata": {},
   "outputs": [
    {
     "name": "stdout",
     "output_type": "stream",
     "text": [
      "n = 3, score = 0.85\n",
      "n = 5, score = 0.782608695652174\n",
      "n = 7, score = 0.8571428571428571\n",
      "n = 9, score = 0.8571428571428571\n",
      "n = 13, score = 0.85\n"
     ]
    }
   ],
   "source": [
    "#Подберем на валидации число соседей\n",
    "possible_n = [3, 5, 7, 9, 13]\n",
    "knnc = KNNClassifier(1)\n",
    "knnc.fit(X_train_scaled, y_train.values)\n",
    "for n in possible_n:\n",
    "    knnc.n = n\n",
    "    preds = knnc.predict(X_test_scaled)\n",
    "    print(f'n = {n}, score = {precision_score(y_test.values, preds)}')\n",
    "    \n",
    "#TODO Подберем число соседей\n",
    "#Хотим быть очень точными ;)"
   ]
  },
  {
   "cell_type": "code",
   "execution_count": 11,
   "metadata": {},
   "outputs": [],
   "source": [
    "from sklearn.neighbors import KNeighborsClassifier"
   ]
  },
  {
   "cell_type": "code",
   "execution_count": 12,
   "metadata": {},
   "outputs": [
    {
     "name": "stdout",
     "output_type": "stream",
     "text": [
      "n = 3, score = 0.85\n",
      "n = 5, score = 0.782608695652174\n",
      "n = 7, score = 0.8571428571428571\n",
      "n = 9, score = 0.8571428571428571\n",
      "n = 13, score = 0.85\n"
     ]
    }
   ],
   "source": [
    "possible_n = [3, 5, 7, 9, 13]\n",
    "\n",
    "for n in possible_n:\n",
    "    knnc = KNeighborsClassifier(n_neighbors=n)\n",
    "    knnc.fit(X_train_scaled, y_train.values)\n",
    "    preds = knnc.predict(X_test_scaled)\n",
    "    print(f'n = {n}, score = {precision_score(y_test.values, preds)}')\n",
    "    "
   ]
  },
  {
   "cell_type": "code",
   "execution_count": null,
   "metadata": {},
   "outputs": [],
   "source": []
  },
  {
   "cell_type": "markdown",
   "metadata": {},
   "source": [
    "# KNN для регрессии"
   ]
  },
  {
   "cell_type": "code",
   "execution_count": 17,
   "metadata": {},
   "outputs": [],
   "source": [
    "#TODO Препроцессинг данных для регрессии. Целевая переменная - ВОЗРАСТ, посмотрим можно ли что-то сказать\n",
    "#о возрасте по весу, росту и полу (Hint, скорее всего нет)\n",
    "class KNNRegressor:\n",
    "    \"\"\"\n",
    "    simple KNN regressor\n",
    "    \"\"\"\n",
    "    \n",
    "    def __init__(self, n):\n",
    "        self.n = n\n",
    "        \n",
    "    def fit(self, X, y):\n",
    "        self.X = X\n",
    "        self.y = y\n",
    "    \n",
    "    def predict(self, X):\n",
    "        y = []\n",
    "        assert len(X.shape) == 2\n",
    "        for (w, a) in X:\n",
    "            ### Посчитаем расстояние от всех элементов в тренировочной выборке\n",
    "            # до текущего примера -> результат - вектор размерности трейна\n",
    "            d = np.sqrt((w - self.X[:, 0])**2 + (a - self.X[:, 1])**2)\n",
    "            ### Возьмем индексы n элементов, расстояние до которых минимально\n",
    "            ### результат -> вектор из n элементов\n",
    "            idx = np.argsort(d)[:self.n]\n",
    "            prediction = np.average(self.y[idx])\n",
    "            y.append(prediction)\n",
    "        return y"
   ]
  },
  {
   "cell_type": "code",
   "execution_count": 18,
   "metadata": {},
   "outputs": [],
   "source": [
    "X_train_reg = X_train[['weight', 'age']]\n",
    "y_train_reg = X_train['height']\n",
    "X_test_reg = X_test[['weight', 'age']]\n",
    "y_test_reg = X_test['height']"
   ]
  },
  {
   "cell_type": "code",
   "execution_count": 19,
   "metadata": {},
   "outputs": [],
   "source": [
    "from sklearn.preprocessing import StandardScaler\n",
    "\n",
    "scaler = StandardScaler()\n",
    "X_train_reg_scaled = scaler.fit_transform(X_train_reg)\n",
    "X_test_reg_scaled = scaler.transform(X_test_reg)"
   ]
  },
  {
   "cell_type": "code",
   "execution_count": 21,
   "metadata": {},
   "outputs": [],
   "source": [
    "from sklearn.metrics import r2_score"
   ]
  },
  {
   "cell_type": "code",
   "execution_count": 22,
   "metadata": {},
   "outputs": [
    {
     "name": "stdout",
     "output_type": "stream",
     "text": [
      "n = 3, score = 0.45278903209058496\n",
      "n = 5, score = 0.5903592986428168\n",
      "n = 7, score = 0.6247632177427449\n",
      "n = 9, score = 0.6094000064071579\n",
      "n = 13, score = 0.6069134022814966\n"
     ]
    }
   ],
   "source": [
    "#Подберем на валидации число соседей\n",
    "possible_n = [3, 5, 7, 9, 13]\n",
    "knnc = KNNRegressor(1)\n",
    "knnc.fit(X_train_reg_scaled, y_train_reg.values)\n",
    "for n in possible_n:\n",
    "    knnc.n = n\n",
    "    preds = knnc.predict(X_test_reg_scaled)\n",
    "    print(f'n = {n}, score = {r2_score(y_test_reg.values, preds)}')"
   ]
  },
  {
   "cell_type": "code",
   "execution_count": 23,
   "metadata": {},
   "outputs": [],
   "source": [
    "from sklearn.neighbors import KNeighborsRegressor"
   ]
  },
  {
   "cell_type": "code",
   "execution_count": 24,
   "metadata": {},
   "outputs": [
    {
     "name": "stdout",
     "output_type": "stream",
     "text": [
      "n = 3, score = 0.45278903209058496\n",
      "n = 5, score = 0.5903592986428168\n",
      "n = 7, score = 0.6247632177427449\n",
      "n = 9, score = 0.6065896025378983\n",
      "n = 13, score = 0.6069134022814966\n"
     ]
    }
   ],
   "source": [
    "possible_n = [3, 5, 7, 9, 13]\n",
    "\n",
    "for n in possible_n:\n",
    "    knnc = KNeighborsRegressor(n_neighbors=n)\n",
    "    knnc.fit(X_train_reg_scaled, y_train_reg.values)\n",
    "    preds = knnc.predict(X_test_reg_scaled)\n",
    "    print(f'n = {n}, score = {r2_score(y_test_reg.values, preds)}')\n",
    "    "
   ]
  },
  {
   "cell_type": "code",
   "execution_count": null,
   "metadata": {},
   "outputs": [],
   "source": []
  }
 ],
 "metadata": {
  "anaconda-cloud": {},
  "kernelspec": {
   "display_name": "Python 3",
   "language": "python",
   "name": "python3"
  },
  "language_info": {
   "codemirror_mode": {
    "name": "ipython",
    "version": 3
   },
   "file_extension": ".py",
   "mimetype": "text/x-python",
   "name": "python",
   "nbconvert_exporter": "python",
   "pygments_lexer": "ipython3",
   "version": "3.7.2"
  }
 },
 "nbformat": 4,
 "nbformat_minor": 1
}
