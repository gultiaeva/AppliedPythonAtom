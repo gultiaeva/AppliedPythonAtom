{
 "cells": [
  {
   "cell_type": "code",
   "execution_count": 1,
   "metadata": {},
   "outputs": [],
   "source": [
    "import random\n",
    "import time\n",
    "import threading"
   ]
  },
  {
   "cell_type": "code",
   "execution_count": 3,
   "metadata": {},
   "outputs": [
    {
     "name": "stdout",
     "output_type": "stream",
     "text": [
      "I am alife 0\n",
      "Here\n",
      "I am alife 1\n",
      "I am alife 2\n",
      "I am alife 3\n",
      "I am alife 4\n"
     ]
    }
   ],
   "source": [
    "def sleep(inter_num, interval):\n",
    "    for i in range(inter_num):\n",
    "        print(\"I am alife {}\".format(i))\n",
    "        time.sleep(interval)\n",
    "t = threading.Thread(target=sleep, args=(5, 1))\n",
    "t.start()\n",
    "print(\"Here\")"
   ]
  },
  {
   "cell_type": "code",
   "execution_count": 5,
   "metadata": {},
   "outputs": [
    {
     "name": "stdout",
     "output_type": "stream",
     "text": [
      "I am alife 0\n",
      "I am boss 0\n",
      "I am alife 1\n",
      "I am boss 1\n",
      "I am alife 2\n",
      "I am boss 2\n",
      "I am alife 3I am boss 3\n",
      "\n",
      "I am boss 4\n",
      "I am alife 4\n"
     ]
    }
   ],
   "source": [
    "def sleep(inter_num, interval):\n",
    "    for i in range(inter_num):\n",
    "        print(\"I am alife {}\".format(i))\n",
    "        time.sleep(interval)\n",
    "\n",
    "inter_num = 5\n",
    "interval = 1\n",
    "\n",
    "t = threading.Thread(target=sleep, args=(inter_num, interval))\n",
    "t.start()\n",
    "\n",
    "for i in range(inter_num):\n",
    "    print(\"I am boss {}\".format(i))\n",
    "    time.sleep(interval)"
   ]
  },
  {
   "cell_type": "code",
   "execution_count": 8,
   "metadata": {},
   "outputs": [
    {
     "name": "stdout",
     "output_type": "stream",
     "text": [
      "I am alife 0 my name Amir\n",
      "I am boss 0\n",
      "I am alife 1 my name AmirI am boss 1\n",
      "\n",
      "I am boss 2I am alife 2 my name Amir\n",
      "\n",
      "I am boss 3\n",
      "I am alife 3 my name Amir\n",
      "I am boss 4I am alife 4 my name Amir\n",
      "\n"
     ]
    }
   ],
   "source": [
    "class Sleeper(threading.Thread):\n",
    "    def __init__(self, name, inter_num, interval):\n",
    "        super().__init__()\n",
    "        self.name = name\n",
    "        self.iter_num = inter_num\n",
    "        self.interval = interval\n",
    "    \n",
    "    def run(self):\n",
    "        for i in range(self.iter_num):\n",
    "            print(\"I am alife {} my name {}\".format(i, self.name))\n",
    "            time.sleep(self.interval)\n",
    "\n",
    "inter_num = 5\n",
    "interval = 1\n",
    "            \n",
    "t = Sleeper(\"Amir\", inter_num, interval)\n",
    "t.start()\n",
    "\n",
    "for i in range(inter_num):\n",
    "    print(\"I am boss {}\".format(i))\n",
    "    time.sleep(interval)"
   ]
  },
  {
   "cell_type": "code",
   "execution_count": 9,
   "metadata": {},
   "outputs": [
    {
     "name": "stdout",
     "output_type": "stream",
     "text": [
      "I am alife 0 my name Amir\n",
      "I am alife 0 my name Misha\n",
      "I am alife 0 my name PetyaI am alife 0 my name Vova\n",
      "\n",
      "I am alife 0 my name Vasya\n",
      "I am alife 1 my name Amir\n",
      "I am alife 1 my name MishaI am alife 1 my name Petya\n",
      "I am alife 1 my name Vova\n",
      "I am alife 1 my name Vasya\n",
      "\n",
      "I am alife 2 my name Amir\n",
      "I am alife 2 my name Misha\n",
      "I am alife 2 my name VasyaI am alife 2 my name PetyaI am alife 2 my name Vova\n",
      "\n",
      "\n",
      "I am alife 3 my name Amir\n",
      "I am alife 3 my name Misha\n",
      "I am alife 3 my name VovaI am alife 3 my name Petya\n",
      "\n",
      "I am alife 3 my name Vasya\n",
      "I am alife 4 my name Amir\n",
      "I am alife 4 my name Misha\n",
      "I am alife 4 my name VasyaI am alife 4 my name Vova\n",
      "I am alife 4 my name Petya\n",
      "\n"
     ]
    }
   ],
   "source": [
    "inter_num = 5\n",
    "interval = 1\n",
    "\n",
    "t1 = Sleeper(\"Amir\", inter_num, interval)\n",
    "t2 = Sleeper(\"Misha\", inter_num, interval)\n",
    "t3 = Sleeper(\"Petya\", inter_num, interval)\n",
    "t4 = Sleeper(\"Vova\", inter_num, interval)\n",
    "t5 = Sleeper(\"Vasya\", inter_num, interval)\n",
    "\n",
    "t1.start()\n",
    "t2.start()\n",
    "t3.start()\n",
    "t4.start()\n",
    "t5.start()"
   ]
  },
  {
   "cell_type": "code",
   "execution_count": 11,
   "metadata": {},
   "outputs": [
    {
     "name": "stdout",
     "output_type": "stream",
     "text": [
      "I am alife 0 my name Amir\n",
      "I am alife 1 my name Amir\n",
      "I am boss 0\n",
      "I am alife 2 my name Amir\n",
      "I am boss 1\n",
      "I am alife 3 my name Amir\n",
      "I am boss 2I am alife 4 my name Amir\n",
      "\n",
      "I am boss 3\n",
      "I am boss 4\n"
     ]
    }
   ],
   "source": [
    "#join\n",
    "class Sleeper(threading.Thread):\n",
    "    def __init__(self, name, inter_num, interval):\n",
    "        super().__init__()\n",
    "        self.name = name\n",
    "        self.iter_num = inter_num\n",
    "        self.interval = interval\n",
    "    \n",
    "    def run(self):\n",
    "        for i in range(self.iter_num):\n",
    "            print(\"I am alife {} my name {}\".format(i, self.name))\n",
    "            time.sleep(self.interval)\n",
    "\n",
    "inter_num = 5\n",
    "interval = 1\n",
    "            \n",
    "t = Sleeper(\"Amir\", inter_num, interval)\n",
    "t.start()\n",
    "t.join(2)\n",
    "\n",
    "for i in range(inter_num):\n",
    "    print(\"I am boss {}\".format(i))\n",
    "    time.sleep(interval)"
   ]
  },
  {
   "cell_type": "code",
   "execution_count": 12,
   "metadata": {},
   "outputs": [
    {
     "name": "stdout",
     "output_type": "stream",
     "text": [
      "I am alife 0 my name Amir\n",
      "I am alife 1 my name Amir\n",
      "I am alife 2 my name Amir\n",
      "I am alife 3 my name Amir\n",
      "I am alife 4 my name Amir\n",
      "I am alife 0 my name Misha\n",
      "I am alife 1 my name Misha\n",
      "I am alife 2 my name Misha\n",
      "I am alife 3 my name Misha\n",
      "I am alife 4 my name Misha\n",
      "I am alife 0 my name Petya\n",
      "I am alife 1 my name Petya\n",
      "I am alife 2 my name Petya\n",
      "I am alife 3 my name Petya\n",
      "I am alife 4 my name Petya\n",
      "I am alife 0 my name Vova\n",
      "I am alife 1 my name Vova\n",
      "I am alife 2 my name Vova\n",
      "I am alife 3 my name Vova\n",
      "I am alife 4 my name Vova\n",
      "I am alife 0 my name Vasya\n",
      "I am alife 1 my name Vasya\n",
      "I am alife 2 my name Vasya\n",
      "I am alife 3 my name Vasya\n",
      "I am alife 4 my name Vasya\n"
     ]
    }
   ],
   "source": [
    "#TODO Заставим преподов из задачки выше говорить последовательно\n",
    "prep = [\"Amir\", \"Misha\", \"Petya\", \"Vova\", \"Vasya\"]\n",
    "for p in prep:\n",
    "    t = Sleeper(p, inter_num, interval)\n",
    "    t.start()\n",
    "    t.join()"
   ]
  },
  {
   "cell_type": "code",
   "execution_count": 13,
   "metadata": {},
   "outputs": [],
   "source": [
    "class DollarsAccount:\n",
    "    def __init__(self, exchange_rate):\n",
    "        self._exchange_rate = exchange_rate\n",
    "        self._account = 0\n",
    "        \n",
    "    @property\n",
    "    def account(self):\n",
    "        return self._account * self._exchange_rate\n",
    "    \n",
    "    @account.setter\n",
    "    def account(self, money):\n",
    "        self._account += money / self._exchange_rate\n",
    "        \n",
    "class Inflation(threading.Thread):\n",
    "    def __init__(self, name, account, amount, iter_num):\n",
    "        super().__init__()\n",
    "        self.name = name\n",
    "        self.account = account\n",
    "        self.amount = amount\n",
    "        self.iter_num = iter_num\n",
    "    \n",
    "    def run(self):\n",
    "        print(\"My name {} account id {}\".format(self.name, id(self.amount)))\n",
    "        for i in range(self.iter_num):\n",
    "            self.account.account = -self.amount\n",
    "            \n",
    "class DepositCap(threading.Thread):\n",
    "    def __init__(self, name, account, amount, iter_num):\n",
    "        super().__init__()\n",
    "        self.name = name\n",
    "        self.account = account\n",
    "        self.amount = amount\n",
    "        self.iter_num = iter_num\n",
    "    \n",
    "    def run(self):\n",
    "        print(\"My name {} account id {}\".format(self.name, id(self.amount)))\n",
    "        for i in range(self.iter_num):\n",
    "            self.account.account = self.amount"
   ]
  },
  {
   "cell_type": "code",
   "execution_count": 18,
   "metadata": {},
   "outputs": [
    {
     "name": "stdout",
     "output_type": "stream",
     "text": [
      "My name inflation account id 9074688\n",
      "My name DepositCap account id 9074688\n",
      "-82509.99999997971\n"
     ]
    }
   ],
   "source": [
    "dac = DollarsAccount(50)\n",
    "inflation = Inflation(\"inflation\", dac, 5, 100000)      \n",
    "deposit = DepositCap(\"DepositCap\", dac, 5, 100000)\n",
    "\n",
    "inflation.start()\n",
    "deposit.start()\n",
    "inflation.join()\n",
    "deposit.join()\n",
    "print(dac.account)"
   ]
  },
  {
   "cell_type": "code",
   "execution_count": 19,
   "metadata": {},
   "outputs": [],
   "source": [
    "class Inflation(threading.Thread):\n",
    "    def __init__(self, name, account, amount, iter_num):\n",
    "        super().__init__()\n",
    "        self.name = name\n",
    "        self.account = account\n",
    "        self.amount = amount\n",
    "        self.iter_num = iter_num\n",
    "        self.lock = threading.Lock()\n",
    "    \n",
    "    def run(self):\n",
    "        print(\"My name {} account id {}\".format(self.name, id(self.amount)))\n",
    "        for i in range(self.iter_num):\n",
    "            with self.lock:\n",
    "                self.account.account = -self.amount\n",
    "            \n",
    "class DepositCap(threading.Thread):\n",
    "    def __init__(self, name, account, amount, iter_num):\n",
    "        super().__init__()\n",
    "        self.name = name\n",
    "        self.account = account\n",
    "        self.amount = amount\n",
    "        self.iter_num = iter_num\n",
    "        self.lock = threading.Lock()\n",
    "    \n",
    "    def run(self):\n",
    "        print(\"My name {} account id {}\".format(self.name, id(self.amount)))\n",
    "        for i in range(self.iter_num):\n",
    "            with self.lock:\n",
    "                self.account.account = self.amount"
   ]
  },
  {
   "cell_type": "code",
   "execution_count": 21,
   "metadata": {},
   "outputs": [
    {
     "name": "stdout",
     "output_type": "stream",
     "text": [
      "My name inflation account id 9074688\n",
      "My name DepositCap account id 9074688\n",
      "-192474.9999998797\n"
     ]
    }
   ],
   "source": [
    "dac = DollarsAccount(50)\n",
    "inflation = Inflation(\"inflation\", dac, 5, 1000000)      \n",
    "deposit = DepositCap(\"DepositCap\", dac, 5, 1000000)\n",
    "\n",
    "inflation.start()\n",
    "deposit.start()\n",
    "inflation.join()\n",
    "deposit.join()\n",
    "print(dac.account)\n",
    "\n",
    "#Почему не сработало?"
   ]
  },
  {
   "cell_type": "code",
   "execution_count": 24,
   "metadata": {},
   "outputs": [
    {
     "name": "stdout",
     "output_type": "stream",
     "text": [
      "My name inflation account id 9074688\n",
      "My name DepositCap account id 9074688\n",
      "7.870093465811578e-12\n"
     ]
    }
   ],
   "source": [
    "class Inflation(threading.Thread):\n",
    "    def __init__(self, name, account, amount, iter_num, lock):\n",
    "        super().__init__()\n",
    "        self.name = name\n",
    "        self.account = account\n",
    "        self.amount = amount\n",
    "        self.iter_num = iter_num\n",
    "        self.lock = lock\n",
    "    \n",
    "    def run(self):\n",
    "        print(\"My name {} account id {}\".format(self.name, id(self.amount)))\n",
    "        for i in range(self.iter_num):\n",
    "            self.lock.acquire()\n",
    "            self.account.account = -self.amount\n",
    "            self.lock.release()\n",
    "            \n",
    "class DepositCap(threading.Thread):\n",
    "    def __init__(self, name, account, amount, iter_num, lock):\n",
    "        super().__init__()\n",
    "        self.name = name\n",
    "        self.account = account\n",
    "        self.amount = amount\n",
    "        self.iter_num = iter_num\n",
    "        self.lock = lock\n",
    "    \n",
    "    def run(self):\n",
    "        print(\"My name {} account id {}\".format(self.name, id(self.amount)))\n",
    "        for i in range(self.iter_num):\n",
    "            self.lock.acquire()\n",
    "            self.account.account = self.amount\n",
    "            self.lock.release()\n",
    "            \n",
    "dac = DollarsAccount(50)\n",
    "lock = threading.Lock()\n",
    "inflation = Inflation(\"inflation\", dac, 5, 1000000, lock)      \n",
    "deposit = DepositCap(\"DepositCap\", dac, 5, 1000000, lock)\n",
    "\n",
    "inflation.start()\n",
    "deposit.start()\n",
    "inflation.join()\n",
    "deposit.join()\n",
    "print(dac.account)"
   ]
  },
  {
   "cell_type": "code",
   "execution_count": 27,
   "metadata": {},
   "outputs": [
    {
     "name": "stdout",
     "output_type": "stream",
     "text": [
      "Thread1 acquiring lock a\n",
      "Thread2 acquiring lock b\n"
     ]
    },
    {
     "ename": "KeyboardInterrupt",
     "evalue": "",
     "output_type": "error",
     "traceback": [
      "\u001b[0;31m---------------------------------------------------------------------------\u001b[0m",
      "\u001b[0;31mKeyboardInterrupt\u001b[0m                         Traceback (most recent call last)",
      "\u001b[0;32m<ipython-input-27-9e005dde79ac>\u001b[0m in \u001b[0;36m<module>\u001b[0;34m\u001b[0m\n\u001b[1;32m     46\u001b[0m \u001b[0mt2\u001b[0m\u001b[0;34m.\u001b[0m\u001b[0mstart\u001b[0m\u001b[0;34m(\u001b[0m\u001b[0;34m)\u001b[0m\u001b[0;34m\u001b[0m\u001b[0;34m\u001b[0m\u001b[0m\n\u001b[1;32m     47\u001b[0m \u001b[0;34m\u001b[0m\u001b[0m\n\u001b[0;32m---> 48\u001b[0;31m \u001b[0mt1\u001b[0m\u001b[0;34m.\u001b[0m\u001b[0mjoin\u001b[0m\u001b[0;34m(\u001b[0m\u001b[0;34m)\u001b[0m\u001b[0;34m\u001b[0m\u001b[0;34m\u001b[0m\u001b[0m\n\u001b[0m\u001b[1;32m     49\u001b[0m \u001b[0mt2\u001b[0m\u001b[0;34m.\u001b[0m\u001b[0mjoin\u001b[0m\u001b[0;34m(\u001b[0m\u001b[0;34m)\u001b[0m\u001b[0;34m\u001b[0m\u001b[0;34m\u001b[0m\u001b[0m\n",
      "\u001b[0;32m/usr/lib/python3.7/threading.py\u001b[0m in \u001b[0;36mjoin\u001b[0;34m(self, timeout)\u001b[0m\n\u001b[1;32m   1030\u001b[0m \u001b[0;34m\u001b[0m\u001b[0m\n\u001b[1;32m   1031\u001b[0m         \u001b[0;32mif\u001b[0m \u001b[0mtimeout\u001b[0m \u001b[0;32mis\u001b[0m \u001b[0;32mNone\u001b[0m\u001b[0;34m:\u001b[0m\u001b[0;34m\u001b[0m\u001b[0;34m\u001b[0m\u001b[0m\n\u001b[0;32m-> 1032\u001b[0;31m             \u001b[0mself\u001b[0m\u001b[0;34m.\u001b[0m\u001b[0m_wait_for_tstate_lock\u001b[0m\u001b[0;34m(\u001b[0m\u001b[0;34m)\u001b[0m\u001b[0;34m\u001b[0m\u001b[0;34m\u001b[0m\u001b[0m\n\u001b[0m\u001b[1;32m   1033\u001b[0m         \u001b[0;32melse\u001b[0m\u001b[0;34m:\u001b[0m\u001b[0;34m\u001b[0m\u001b[0;34m\u001b[0m\u001b[0m\n\u001b[1;32m   1034\u001b[0m             \u001b[0;31m# the behavior of a negative timeout isn't documented, but\u001b[0m\u001b[0;34m\u001b[0m\u001b[0;34m\u001b[0m\u001b[0;34m\u001b[0m\u001b[0m\n",
      "\u001b[0;32m/usr/lib/python3.7/threading.py\u001b[0m in \u001b[0;36m_wait_for_tstate_lock\u001b[0;34m(self, block, timeout)\u001b[0m\n\u001b[1;32m   1046\u001b[0m         \u001b[0;32mif\u001b[0m \u001b[0mlock\u001b[0m \u001b[0;32mis\u001b[0m \u001b[0;32mNone\u001b[0m\u001b[0;34m:\u001b[0m  \u001b[0;31m# already determined that the C code is done\u001b[0m\u001b[0;34m\u001b[0m\u001b[0;34m\u001b[0m\u001b[0m\n\u001b[1;32m   1047\u001b[0m             \u001b[0;32massert\u001b[0m \u001b[0mself\u001b[0m\u001b[0;34m.\u001b[0m\u001b[0m_is_stopped\u001b[0m\u001b[0;34m\u001b[0m\u001b[0;34m\u001b[0m\u001b[0m\n\u001b[0;32m-> 1048\u001b[0;31m         \u001b[0;32melif\u001b[0m \u001b[0mlock\u001b[0m\u001b[0;34m.\u001b[0m\u001b[0macquire\u001b[0m\u001b[0;34m(\u001b[0m\u001b[0mblock\u001b[0m\u001b[0;34m,\u001b[0m \u001b[0mtimeout\u001b[0m\u001b[0;34m)\u001b[0m\u001b[0;34m:\u001b[0m\u001b[0;34m\u001b[0m\u001b[0;34m\u001b[0m\u001b[0m\n\u001b[0m\u001b[1;32m   1049\u001b[0m             \u001b[0mlock\u001b[0m\u001b[0;34m.\u001b[0m\u001b[0mrelease\u001b[0m\u001b[0;34m(\u001b[0m\u001b[0;34m)\u001b[0m\u001b[0;34m\u001b[0m\u001b[0;34m\u001b[0m\u001b[0m\n\u001b[1;32m   1050\u001b[0m             \u001b[0mself\u001b[0m\u001b[0;34m.\u001b[0m\u001b[0m_stop\u001b[0m\u001b[0;34m(\u001b[0m\u001b[0;34m)\u001b[0m\u001b[0;34m\u001b[0m\u001b[0;34m\u001b[0m\u001b[0m\n",
      "\u001b[0;31mKeyboardInterrupt\u001b[0m: "
     ]
    }
   ],
   "source": [
    "import threading, time\n",
    "\n",
    "a = 5\n",
    "alock = threading.Lock()\n",
    "b = 5\n",
    "block = threading.Lock()\n",
    "\n",
    "def thread1calc():\n",
    "    print(\"Thread1 acquiring lock a\")\n",
    "    alock.acquire()\n",
    "    time.sleep(5)\n",
    "\n",
    "    \n",
    "    block.acquire()\n",
    "    print(\"Thread1 acquiring lock b\")\n",
    "    time.sleep(5)\n",
    "    a += 5\n",
    "    b += 5\n",
    "\n",
    "    \n",
    "    block.release()\n",
    "    print(\"Thread1 releasing both locks\")\n",
    "    alock.release()\n",
    "\n",
    "def thread2calc():\n",
    "    \n",
    "    block.acquire()\n",
    "    print (\"Thread2 acquiring lock b\")\n",
    "    time.sleep(5)\n",
    "\n",
    "    \n",
    "    alock.acquire()\n",
    "    print(\"Thread2 acquiring lock a\")\n",
    "    time.sleep(5)\n",
    "    a += 10\n",
    "    b += 10\n",
    "\n",
    "    print(\"Thread2 releasing both locks\")\n",
    "    block.release()\n",
    "    alock.release()\n",
    "\n",
    "t1 = threading.Thread(target = thread1calc)\n",
    "t1.start()\n",
    "\n",
    "t2 = threading.Thread(target = thread2calc)\n",
    "t2.start()\n",
    "\n",
    "t1.join()\n",
    "t2.join()"
   ]
  },
  {
   "cell_type": "code",
   "execution_count": 28,
   "metadata": {},
   "outputs": [],
   "source": [
    "def incrementer(max_val):\n",
    "    c = 0\n",
    "    for i in range(max_val):\n",
    "        c += 1"
   ]
  },
  {
   "cell_type": "code",
   "execution_count": 29,
   "metadata": {},
   "outputs": [
    {
     "name": "stdout",
     "output_type": "stream",
     "text": [
      "CPU times: user 38 µs, sys: 21 µs, total: 59 µs\n",
      "Wall time: 62.2 µs\n"
     ]
    }
   ],
   "source": [
    "%%time\n",
    "        \n",
    "incrementer(1000)"
   ]
  },
  {
   "cell_type": "code",
   "execution_count": 30,
   "metadata": {},
   "outputs": [
    {
     "name": "stdout",
     "output_type": "stream",
     "text": [
      "CPU times: user 1.68 ms, sys: 0 ns, total: 1.68 ms\n",
      "Wall time: 1.13 ms\n"
     ]
    }
   ],
   "source": [
    "%%time\n",
    "\n",
    "t1 = threading.Thread(target = incrementer, args=(500, ))\n",
    "t2 = threading.Thread(target = incrementer, args=(500, ))\n",
    "t1.start()\n",
    "t2.start()\n",
    "t1.join()\n",
    "t2.join()"
   ]
  },
  {
   "cell_type": "code",
   "execution_count": 31,
   "metadata": {},
   "outputs": [],
   "source": [
    "\n",
    "t1 = threading.Thread(target = incrementer, args=(500, ))\n",
    "t2 = threading.Thread(target = incrementer, args=(500, ))"
   ]
  },
  {
   "cell_type": "code",
   "execution_count": 32,
   "metadata": {},
   "outputs": [
    {
     "name": "stdout",
     "output_type": "stream",
     "text": [
      "CPU times: user 1.1 ms, sys: 607 µs, total: 1.71 ms\n",
      "Wall time: 1.3 ms\n"
     ]
    }
   ],
   "source": [
    "%%time\n",
    "\n",
    "t1.start()\n",
    "t2.start()\n",
    "t1.join()\n",
    "t2.join()"
   ]
  },
  {
   "cell_type": "code",
   "execution_count": null,
   "metadata": {
    "collapsed": true
   },
   "outputs": [],
   "source": []
  }
 ],
 "metadata": {
  "anaconda-cloud": {},
  "kernelspec": {
   "display_name": "Python 3",
   "language": "python",
   "name": "python3"
  },
  "language_info": {
   "codemirror_mode": {
    "name": "ipython",
    "version": 3
   },
   "file_extension": ".py",
   "mimetype": "text/x-python",
   "name": "python",
   "nbconvert_exporter": "python",
   "pygments_lexer": "ipython3",
   "version": "3.7.2+"
  }
 },
 "nbformat": 4,
 "nbformat_minor": 1
}
